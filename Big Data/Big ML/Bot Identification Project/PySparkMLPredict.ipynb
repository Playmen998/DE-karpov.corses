{
 "cells": [
  {
   "cell_type": "code",
   "execution_count": null,
   "id": "5ab2d1f4-350a-414a-98e5-89bc2c304766",
   "metadata": {},
   "outputs": [],
   "source": [
    "import argparse\n",
    "\n",
    "from pyspark.ml import PipelineModel\n",
    "from pyspark.sql import SparkSession"
   ]
  },
  {
   "cell_type": "code",
   "execution_count": null,
   "id": "e1063075-730a-4eb0-b1f0-0a7c4c2e7e2e",
   "metadata": {},
   "outputs": [],
   "source": [
    "MODEL_PATH = 'spark_ml_model'"
   ]
  },
  {
   "cell_type": "code",
   "execution_count": null,
   "id": "59c04b8a-8faf-4d33-9880-9fa8691664db",
   "metadata": {},
   "outputs": [],
   "source": [
    "def main(data_path, model_path, result_path):\n",
    "    \"\"\"\n",
    "    Применение сохраненной модели.\n",
    "\n",
    "    :param data_path: путь к файлу с данными к которым нужно сделать предсказание.\n",
    "    :param model_path: путь к сохраненой модели (Из задачи PySparkMLFit.py).\n",
    "    :param result_path: путь куда нужно сохранить результаты предсказаний ([session_id, prediction]).\n",
    "    \"\"\"\n",
    "    spark = _spark_session()\n",
    "    df = spark.read.parquet(data_path)\n",
    "    loaded_model = PipelineModel.load(model_path)\n",
    "    prediction = loaded_model.transform(df)\n",
    "    prediction.select('session_id', 'prediction').write.mode(\"overwrite\").parquet(result_path)\n",
    "    spark.stop()\n",
    "    print(\"Done.\")\n",
    "    #TODO Ваш код."
   ]
  },
  {
   "cell_type": "code",
   "execution_count": null,
   "id": "59ca54bb-0cba-46de-96c6-a4cc613ccec8",
   "metadata": {},
   "outputs": [],
   "source": [
    "def _spark_session():\n",
    "    \"\"\"\n",
    "    Создание SparkSession.\n",
    "\n",
    "    :return: SparkSession\n",
    "    \"\"\"\n",
    "    return SparkSession.builder.appName('PySparkMLPredict').getOrCreate()"
   ]
  },
  {
   "cell_type": "code",
   "execution_count": null,
   "id": "acda08c2-8ff8-46f0-a2d1-0e6adebabe67",
   "metadata": {},
   "outputs": [],
   "source": [
    "if __name__ == \"__main__\":\n",
    "    parser = argparse.ArgumentParser()\n",
    "    parser.add_argument('--model_path', type=str, default=MODEL_PATH, help='Please set model path.')\n",
    "    parser.add_argument('--data_path', type=str, default='test.parquet', help='Please set datasets path.')\n",
    "    parser.add_argument('--result_path', type=str, default='result', help='Please set result path.')\n",
    "    args = parser.parse_args()\n",
    "    data_path = args.data_path\n",
    "    model_path = args.model_path\n",
    "    result_path = args.result_path\n",
    "    main(data_path, model_path, result_path)"
   ]
  }
 ],
 "metadata": {
  "kernelspec": {
   "display_name": "Python 3 (ipykernel)",
   "language": "python",
   "name": "python3"
  },
  "language_info": {
   "codemirror_mode": {
    "name": "ipython",
    "version": 3
   },
   "file_extension": ".py",
   "mimetype": "text/x-python",
   "name": "python",
   "nbconvert_exporter": "python",
   "pygments_lexer": "ipython3",
   "version": "3.8.10"
  }
 },
 "nbformat": 4,
 "nbformat_minor": 5
}
