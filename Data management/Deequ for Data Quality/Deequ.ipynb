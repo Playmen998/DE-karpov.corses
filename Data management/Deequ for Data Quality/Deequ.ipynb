{
 "cells": [
  {
   "cell_type": "code",
   "execution_count": 3,
   "id": "401c8dd7-5369-4d43-806f-88384aaba8b8",
   "metadata": {},
   "outputs": [],
   "source": [
    "import argparse\n",
    "import os\n",
    "os.environ['SPARK_VERSION'] = '3.1'\n",
    "\n",
    "import pydeequ\n",
    "from pydeequ.analyzers import *\n",
    "from pyspark.sql import SparkSession"
   ]
  },
  {
   "cell_type": "code",
   "execution_count": null,
   "id": "515b73ad-27e1-40f7-9aeb-83f2069de228",
   "metadata": {},
   "outputs": [],
   "source": [
    "def process(spark, data_path, report_path):\n",
    "    \"\"\"\n",
    "    Основной процесс задачи.\n",
    "\n",
    "    :param spark: SparkSession\n",
    "    :param data_path: путь до датасета\n",
    "    :param report_path: путь сохранения отчета\n",
    "    \"\"\"\n",
    "    df = spark.read.parquet(data_path)\n",
    "    analyzer = AnalysisRunner(spark)\\\n",
    "                        .onData(df)\\\n",
    "                        .addAnalyzer(Size())\\\n",
    "                        .addAnalyzer(Completeness(\"id\"))\\\n",
    "                        .addAnalyzer(Completeness(\"vendor_code\"))\\\n",
    "                        .addAnalyzer(Completeness(\"name\"))\\\n",
    "                        .addAnalyzer(Completeness(\"type\"))\\\n",
    "                        .addAnalyzer(Completeness(\"label\"))\\\n",
    "                        .addAnalyzer(Completeness(\"price\"))\\\n",
    "                        .addAnalyzer(Completeness(\"discount\"))\\\n",
    "                        .addAnalyzer(Completeness(\"available_count\"))\\\n",
    "                        .addAnalyzer(Completeness(\"preorder_count\"))\\\n",
    "                        .addAnalyzer(CountDistinct(\"id\"))\\\n",
    "                        .addAnalyzer(Compliance(\"discount less than 0\", 'discount<0'))\\\n",
    "                        .addAnalyzer(Compliance(\"discount great  than 100\", 'discount>100'))\\\n",
    "                        .addAnalyzer(Compliance(\"available_count less than 0\", 'available_count<0'))\\\n",
    "                        .addAnalyzer(Compliance(\"preorder_count less than 0\", 'preorder_count<0'))\\\n",
    "                        .run()\n",
    "    analysisResult_df = AnalyzerContext.successMetricsAsDataFrame(spark, analyzer)\n",
    "    analysisResult_df.write.mode(\"overwrite\").parquet(report_path)"
   ]
  },
  {
   "cell_type": "code",
   "execution_count": 4,
   "id": "4608fa9c-a719-40cd-b596-ee3b3f59c54c",
   "metadata": {},
   "outputs": [],
   "source": [
    "def main(data_path, report_path):\n",
    "    spark = _spark_session()\n",
    "    process(spark, data_path, report_path)"
   ]
  },
  {
   "cell_type": "code",
   "execution_count": 6,
   "id": "faab15e0-b2cc-4575-a9be-56c4ff3addd7",
   "metadata": {},
   "outputs": [],
   "source": [
    "def _spark_session():\n",
    "    \"\"\"\n",
    "    Создание SparkSession.\n",
    "\n",
    "    :return: SparkSession\n",
    "    \"\"\"\n",
    "    return SparkSession \\\n",
    "        .builder.appName('PySparkAnalyzer') \\\n",
    "        .config(\"spark.jars.packages\", pydeequ.deequ_maven_coord) \\\n",
    "        .config(\"spark.jars.excludes\", pydeequ.f2j_maven_coord) \\\n",
    "        .getOrCreate()"
   ]
  },
  {
   "cell_type": "code",
   "execution_count": null,
   "id": "3160cee0-e960-40f7-b85a-10214ba653b8",
   "metadata": {},
   "outputs": [],
   "source": [
    "if __name__ == \"__main__\":\n",
    "    parser = argparse.ArgumentParser()\n",
    "    parser.add_argument('--data_path', type=str, default='data.parquet', help='Please set datasets path.')\n",
    "    parser.add_argument('--report_path', type=str, default='report', help='Please set target report path.')\n",
    "    args = parser.parse_args()\n",
    "    data_path = args.data_path\n",
    "    report_path = args.report_path\n",
    "    main(data_path, report_path)"
   ]
  },
  {
   "cell_type": "code",
   "execution_count": null,
   "id": "daeebbb0-cc82-46d5-8152-9291fda1f3dc",
   "metadata": {},
   "outputs": [],
   "source": []
  }
 ],
 "metadata": {
  "kernelspec": {
   "display_name": "Python 3 (ipykernel)",
   "language": "python",
   "name": "python3"
  },
  "language_info": {
   "codemirror_mode": {
    "name": "ipython",
    "version": 3
   },
   "file_extension": ".py",
   "mimetype": "text/x-python",
   "name": "python",
   "nbconvert_exporter": "python",
   "pygments_lexer": "ipython3",
   "version": "3.8.10"
  }
 },
 "nbformat": 4,
 "nbformat_minor": 5
}
