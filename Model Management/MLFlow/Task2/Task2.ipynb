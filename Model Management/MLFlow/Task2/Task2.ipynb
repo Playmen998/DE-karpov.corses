{
 "cells": [
  {
   "cell_type": "markdown",
   "id": "6bfa3efe",
   "metadata": {
    "toc": true
   },
   "source": [
    "<h1>Table of Contents<span class=\"tocSkip\"></span></h1>\n",
    "<div class=\"toc\"><ul class=\"toc-item\"></ul></div>"
   ]
  },
  {
   "cell_type": "code",
   "execution_count": null,
   "id": "f94c3846-3b53-46ce-b69e-12bc4801df6b",
   "metadata": {},
   "outputs": [],
   "source": [
    "import argparse\n",
    "import os\n",
    "from pyspark.sql import SparkSession\n",
    "import mlflow\n",
    "from mlflow.tracking import MlflowClient\n",
    "from pyspark.sql.functions import col"
   ]
  },
  {
   "cell_type": "code",
   "execution_count": null,
   "id": "063597a5-6043-40de-ab6b-4338561539f2",
   "metadata": {},
   "outputs": [],
   "source": [
    "def process(spark, data_path, result_path):\n",
    "    \"\"\"\n",
    "    Основной процесс задачи: загрузка модели, применение и сохранение результатов.\n",
    "\n",
    "    :param spark: SparkSession\n",
    "    :param data_path: путь до датасета\n",
    "    :param result_path: путь сохранения результата\n",
    "    \"\"\"\n",
    "    data = spark.read.parquet(data_path)\n",
    "\n",
    "    model_uri = \"models:/e-lavrushkin/v3\"\n",
    "    model = mlflow.pyfunc.spark_udf(spark, model_uri=model_uri)\n",
    "\n",
    "\n",
    "    predictions = data.withColumn(\"prediction\", model(*[col(c) for c in data.columns]))\n",
    "\n",
    "    predictions.write.mode(\"overwrite\").parquet(result_path)"
   ]
  },
  {
   "cell_type": "code",
   "execution_count": null,
   "id": "cefb068f-44e6-41c3-8f79-2aaa32f78ae9",
   "metadata": {},
   "outputs": [],
   "source": [
    "def main(data, result):\n",
    "    spark = _spark_session()\n",
    "    process(spark, data, result)"
   ]
  },
  {
   "cell_type": "code",
   "execution_count": null,
   "id": "68f14fa2-71d5-42b8-a00b-b2f51aba33f0",
   "metadata": {},
   "outputs": [],
   "source": [
    "def _spark_session():\n",
    "    \"\"\"\n",
    "    Создание SparkSession.\n",
    "\n",
    "    :return: SparkSession\n",
    "    \"\"\"\n",
    "    return SparkSession.builder.appName('PySparkPredict').getOrCreate()"
   ]
  },
  {
   "cell_type": "code",
   "execution_count": null,
   "id": "dc3ffd87-cc57-426a-bb08-7f08d8f729c2",
   "metadata": {},
   "outputs": [],
   "source": [
    "if __name__ == \"__main__\":\n",
    "    parser = argparse.ArgumentParser()\n",
    "    parser.add_argument('--data', type=str, default='data.parquet', help='Please set datasets path.')\n",
    "    parser.add_argument('--result', type=str, default='result', help='Please set result path.')\n",
    "    args = parser.parse_args()\n",
    "    data = args.data\n",
    "    result = args.result\n",
    "    main(data, result)"
   ]
  }
 ],
 "metadata": {
  "kernelspec": {
   "display_name": "Python 3 (ipykernel)",
   "language": "python",
   "name": "python3"
  },
  "language_info": {
   "codemirror_mode": {
    "name": "ipython",
    "version": 3
   },
   "file_extension": ".py",
   "mimetype": "text/x-python",
   "name": "python",
   "nbconvert_exporter": "python",
   "pygments_lexer": "ipython3",
   "version": "3.9.12"
  },
  "toc": {
   "base_numbering": 1,
   "nav_menu": {},
   "number_sections": true,
   "sideBar": true,
   "skip_h1_title": false,
   "title_cell": "Table of Contents",
   "title_sidebar": "Contents",
   "toc_cell": true,
   "toc_position": {},
   "toc_section_display": true,
   "toc_window_display": true
  }
 },
 "nbformat": 4,
 "nbformat_minor": 5
}
